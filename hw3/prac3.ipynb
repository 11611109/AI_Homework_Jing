{
 "cells": [
  {
   "cell_type": "markdown",
   "metadata": {},
   "source": [
    "# Introduction to Artificial Intelligence for Non Computing"
   ]
  },
  {
   "cell_type": "markdown",
   "metadata": {},
   "source": [
    "## Practical 3 (weeks 5 - 6)"
   ]
  },
  {
   "cell_type": "markdown",
   "metadata": {},
   "source": [
    "The following links provide additional information about data analysis , machine learning and Numpy"
   ]
  },
  {
   "cell_type": "markdown",
   "metadata": {},
   "source": [
    "Python data analysis: https://www.imooc.com/learn/843\n",
    "machine learning: https://www.imooc.com/learn/717\n",
    "Numpy :https://www.imooc.com/learn/943"
   ]
  },
  {
   "cell_type": "markdown",
   "metadata": {},
   "source": [
    "#### Theory Questions"
   ]
  },
  {
   "cell_type": "markdown",
   "metadata": {},
   "source": [
    "1\\.Which of the following are true and which are false? Give brief explanations.\n",
    "- a. In a fully observable, turn-taking, zero-sum game between two perfectly rational players,it does not help the first player to know what strategy the second player is using—that is, what move the second player will make, given the first player's move.\n",
    "- b. In a partially observable, turn-taking, zero-sum game between two perfectly rational players, it does not help the first player to know what move the second player will make, given the first player's move.\n",
    "- c. A perfectly rational backgammon agent never loses.\n",
    "\n",
    "See textbook Chapter6 24.6"
   ]
  },
  {
   "cell_type": "markdown",
   "metadata": {},
   "source": [
    "_your answer here..._ \n",
    "a.True \n",
    "Since the players are perfectly rational.the sencond player is predictable up to ties.Knowing what move the second player will make given the first player's move doesn't help.            \n",
    "b.False \n",
    "Since the game is partially observable, knowing the second player's move will tell the first player additional information which helps.         \n",
    "c.False \n",
    "Backgammon is much relied on luck, so we can't know who rolls the better dice every time.              \n",
    "***"
   ]
  },
  {
   "cell_type": "markdown",
   "metadata": {},
   "source": [
    "2\\.Define in your own words the terms constraint, backtracking search, arc consistency,backjumping, min-conflicts, and cycle cutset.\n",
    "\n",
    "See textbook Chapter6 6.16"
   ]
  },
  {
   "cell_type": "markdown",
   "metadata": {},
   "source": [
    "_your answer here..._           \n",
    "Constraint:constraint is the restrictions on the possible values of the variables.                \n",
    "Backtracking search:It is a kind of DFS.The defference between it and DFS is that the backtracking method is not in the solution process.              \n",
    "Arc consistency:Variable A s arc-consistent whith respect to another variable B if fro every value in the domain of A,there is some value in the domain of B that satisfies the binary constraint on the arc (A,B).                  \n",
    "Backjumping:Jumping back more than on level when reached a dead end. It can make backtracking more efficient.                  \n",
    "Min-conflicts:It is a heuristic which make the programme choose the value that conflicts with the fewest number of other variables when given a variable to modify.                \n",
    "Cycle cutset:A cycle cutset is a set of variables which make it acyclic when removed from the constraint graph. After removed the CSP can be solved in linear time.           \n",
    "\n",
    "***"
   ]
  },
  {
   "cell_type": "markdown",
   "metadata": {},
   "source": [
    "3\\.Explain why it is a good heuristic to choose the variable that is most constrained but the value that is least constraining in a CSP search.\n",
    "\n",
    "See textbook Chapter6 6.9"
   ]
  },
  {
   "cell_type": "markdown",
   "metadata": {},
   "source": [
    "_your answer here..._             \n",
    "Choosing the most constrained variable makes the variable which are likely to cause a failure to fail as early as possible.Thus avoids future conflicts as much as possible.So this heuristic makes sense.\n",
    "***"
   ]
  },
  {
   "cell_type": "markdown",
   "metadata": {},
   "source": [
    "4\\.Consider the following procedure for choosing moves in games with chance nodes: \n",
    "- 1、Generate some dice-roll sequences (say, 50) down to a suitable depth (say, 8).\n",
    "- 2、With known dice rolls, the game tree becomes deterministic. For each dice-roll sequence,solve the resulting deterministic game tree using alpha-beta.\n",
    "- 3、Use the results to estimate the value of each move and to choose the best.Will this procedure work well? Why (or why not)?\n",
    "\n",
    "See textbook Chapter5 5.19"
   ]
  },
  {
   "cell_type": "markdown",
   "metadata": {},
   "source": [
    "_your answer here..._ \n",
    "It will not work well.Mathematically, the procerdure amounts to assuming that averaging commmutes with min and max, which it does not. Intutively, the choices made by each player in the determinstic tress are based on full knowledge of future dice rolls, and baar no neccesary relationship to the moves made without such knowledge.\n",
    "***"
   ]
  },
  {
   "cell_type": "markdown",
   "metadata": {},
   "source": [
    "5\\. Now,please consider this game:  there are three plates A, B and C, each plate has three bills. A puts 1, 20, 50; B puts 5, 10, 100; C puts 1, 5, 20. All units are \"Yuan\". There are two persons A and B, and two of them can check out three plates and banknotes .（ A is ourself, The other is B）\n",
    "The game is divided into three steps: \n",
    "- 1、A select a plate from three plate.\n",
    "- 2、B take out two banknotes from A selected plate,and give the  banknotes to A.  \n",
    "- 3、A take one of the two banknotes, and take it away.among,A want to get the max banknotes, B want to let A to get the min.\n",
    "\n",
    "Try to understand the minimax algorithm，you can click the link:https://blog.csdn.net/tangchenyi/article/details/22920031"
   ]
  },
  {
   "cell_type": "markdown",
   "metadata": {},
   "source": [
    "_your answer here..._ \n",
    "According to the rules of this game ,I draw the following tree. The squares are our(A) choices and the circles are opponent's(B) choices.To make sure we gat the max banknote, A will choose the first plate at first,then B will take out 1 and 20 to A. Finally A take 20.\n",
    "<img src=\"picture/game.jpg\" width=\"180\" height=\"180\" >    \n",
    "***"
   ]
  },
  {
   "cell_type": "markdown",
   "metadata": {},
   "source": [
    "### Programming Excercises"
   ]
  },
  {
   "cell_type": "markdown",
   "metadata": {},
   "source": [
    "1\\. Guess number(Single number): please generate a randomly number  with the function (random), then ask someone to guess the number,I think we should give the corresponding hint, otherwise it will be very difficult to guess the number.the game will be over untill you get the right number."
   ]
  },
  {
   "cell_type": "code",
   "execution_count": null,
   "metadata": {},
   "outputs": [],
   "source": [
    "## write your answer here!\n",
    "import random\n",
    "randomNum=random.randint(0,100)\n",
    "def isDigit(x):\n",
    "    while not (x.isdigit()):\n",
    "        x=input(\"Input error!please input an integer between 0 and 100:\")\n",
    "    return int(x)\n",
    "\n",
    "print(\"Please guess the random number generated(it is a integer between 0 and 100)\")\n",
    "a=input()\n",
    "guess=isDigit(a)\n",
    "while(guess!=randomNum):\n",
    "    if(guess>randomNum):\n",
    "        guess = input(\"Try a smaller number:\")\n",
    "        guess=isDigit(guess)\n",
    "    elif(guess<randomNum):\n",
    "        guess = input(\"Try a bigger number:\")\n",
    "        guess = isDigit(guess)\n",
    "\n",
    "print(\"Congratulations！Your guess is right!\")\n"
   ]
  },
  {
   "cell_type": "markdown",
   "metadata": {},
   "source": [
    "2\\.if you had understand the guess single number games,Congratulates,next is the guess three number games,Maybe you can do it well.But this is a different way of thinking. \n",
    "first : we need generate three numbers,there are most ten times chances give  you to guess the number,of course,we also give you some cue.\n",
    "\n",
    "- 'When I say:-->It means:\n",
    "- 'error--> The 3 numbers are not in the mystical numbers.'\n",
    "- 'Only the number is correct --> the number is right , but the position is not right.'\n",
    "- 'Absolutely right--> numbers is right and the position also right.'\n",
    "\n",
    "Maybe it's better for you to understand the rule well through see the picture.\n",
    "<div style=\"float:left;\" ><img src=\"img/p1.png\" width=\"400\" height=\"300\" >"
   ]
  },
  {
   "cell_type": "code",
   "execution_count": 2,
   "metadata": {},
   "outputs": [
    {
     "name": "stdout",
     "output_type": "stream",
     "text": [
      "There are three numbers between 1 and 10.Please guess them.You have only 10 chances\n",
      "The clue I gave is:\n",
      "Error:The 3 numbers are not in the mystical numbers\n",
      "Only the number is correct:The number is right , but the position is not right.\n",
      "Absolutely right:Numbers is right and the position also right\n",
      "This is the 1 time: 345\n",
      "['Only the number is correct', 'Error', 'Only the number is correct']\n",
      "This is the 2 time: 513\n",
      "['Absolutely right', 'Error', 'Only the number is correct']\n",
      "This is the 3 time: 532\n",
      "['Absolutely right', 'Absolutely right', 'Error']\n",
      "This is the 4 time: 536\n",
      "['Absolutely right', 'Absolutely right', 'Error']\n",
      "This is the 5 time: 537\n",
      "['Absolutely right', 'Absolutely right', 'Error']\n",
      "This is the 6 time: 538\n",
      "['Absolutely right', 'Absolutely right', 'Absolutely right']\n",
      "Congratulations!\n",
      "Want to play again?(yes or no)\n",
      "no\n"
     ]
    }
   ],
   "source": [
    "## write your answer here!\n",
    "import random\n",
    "\n",
    "print(\"There are three numbers between 1 and 10.Please guess them.You have only 10 chances\")\n",
    "print(\"The clue I gave is:\\nError:The 3 numbers are not in the mystical numbers\\n\"\n",
    "      \"Only the number is correct:The number is right , but the position is not right.\\n\"\n",
    "      \"Absolutely right:Numbers is right and the position also right\")\n",
    "def judge(a,b,origin):\n",
    "    if(a==b):\n",
    "        result=\"Absolutely right\"\n",
    "    elif b in origin:\n",
    "        result =\"Only the number is correct\"\n",
    "    else:\n",
    "        result =\"Error\"\n",
    "    return result\n",
    "Continue=\"yes\"\n",
    "while(Continue==\"yes\"):\n",
    "    random1 = random.randint(1, 10)\n",
    "    random2 = random.randint(1, 10)\n",
    "    random3 = random.randint(1, 10)\n",
    "    random = [random1, random2, random3]\n",
    "    flag = 0\n",
    "    for i in range(1, 11):\n",
    "        guess = input(\"This is the %d time: \" % i)\n",
    "        first = int(guess[0])\n",
    "        second = int(guess[1])\n",
    "        third = int(guess[2])\n",
    "        Guess = [first, second, third]\n",
    "        result = []\n",
    "        for j in range(0, 3):\n",
    "            result.append(judge(random[j], Guess[j], random))\n",
    "        print(result)\n",
    "        rightNum = 0\n",
    "        for str in result:\n",
    "            if str == \"Absolutely right\":\n",
    "                rightNum = rightNum + 1\n",
    "        if (rightNum == 3):\n",
    "            print(\"Congratulations!\")\n",
    "            break\n",
    "        flag = flag + 1\n",
    "    if flag == 10:\n",
    "        print(\"Failure.\")\n",
    "    print(\"Want to play again?(yes or no)\")\n",
    "    Continue=input()\n"
   ]
  },
  {
   "cell_type": "markdown",
   "metadata": {},
   "source": [
    "3\\.please try using Python's Tkinter to make a visual interface（GUI）.if you don't know anything.Maybe you can refer to the below interface.and implement it by code.\n",
    "\n",
    "<div style=\"float:left;\" ><img src=\"img/p2.png\" width=\"200\" height=\"200\" >"
   ]
  },
  {
   "cell_type": "code",
   "execution_count": null,
   "metadata": {},
   "outputs": [],
   "source": [
    "## write your answer here!\n",
    "from tkinter import *\n",
    "\n",
    "root = Tk()\n",
    "list= ['C', 'python', 'php', 'html', 'SQL', 'java']\n",
    "movie = ['CSS', 'jQuery', 'Bootstrap']\n",
    "listb = Listbox(root)\n",
    "listb2 = Listbox(root)\n",
    "for item in list:\n",
    "    listb.insert(0, item)\n",
    "for item in movie:\n",
    "    listb2.insert(0, item)\n",
    "\n",
    "listb.pack() \n",
    "listb2.pack()\n",
    "root.mainloop()"
   ]
  },
  {
   "cell_type": "markdown",
   "metadata": {},
   "source": [
    "4\\.Through the initial trial of Tkinter,    please write a simple calculator.\n",
    "\n",
    "<div style=\"float:left;\" ><img src=\"img/p3.png\" width=\"180\" height=\"200\" center=\"left\"></div>\n",
    "<div style=\"float:left;\" ><img src=\"img/p4.png\" width=\"180\" height=\"200\" center=\"right\" ></div>"
   ]
  },
  {
   "cell_type": "code",
   "execution_count": null,
   "metadata": {},
   "outputs": [],
   "source": [
    "## write your answer here!\n",
    "import tkinter\n",
    "import math\n",
    "\n",
    "\n",
    "#按下数字或运算符\n",
    "isSign=0\n",
    "isEqual=0\n",
    "isSpecial=0\n",
    "numList=[]\n",
    "\n",
    "#按下数字和.的触发函数\n",
    "def pressNum(num):\n",
    "    global isEqual\n",
    "    global isSign\n",
    "    if isSign==1:\n",
    "        value.set('0')\n",
    "        isSign=0\n",
    "    if isEqual==1:\n",
    "        value.set('0')\n",
    "        isEqual=0\n",
    "    old=value.get()\n",
    "    if num=='.' and num in old:\n",
    "        res=old\n",
    "    elif num=='.':\n",
    "        res=old+'.'\n",
    "    elif old=='0':\n",
    "        res=num\n",
    "    else:\n",
    "        res=old+num\n",
    "    value.set(res)\n",
    "\n",
    "#按下运算符号的触发函数\n",
    "def pressSign(sign):\n",
    "    global isSign\n",
    "    global numList\n",
    "    if isSign==1:\n",
    "        value.set(sign)\n",
    "        numList[-1]=sign\n",
    "    else:\n",
    "        old=value.get()\n",
    "        numList.append(old)\n",
    "        numList.append(sign)\n",
    "    isSign=1\n",
    "\n",
    "#按下等号的触发函数\n",
    "def pressEql():\n",
    "    global numList\n",
    "    global isEqual\n",
    "    old=value.get()\n",
    "\n",
    "    #处理被除数为0的异常\n",
    "    if(eval(old)==0 and numList[-1]=='/'):\n",
    "        value.set('0')\n",
    "        numList.clear()\n",
    "        print(\"You can't divide by zero!\")\n",
    "    else:\n",
    "        numList.append(old)\n",
    "        result = ''.join(numList)\n",
    "        value.set(eval(result))\n",
    "        numList.clear()\n",
    "        isEqual = 1\n",
    "\n",
    "#按下特殊键的触发函数\n",
    "def special(sign):\n",
    "    global isSpecial\n",
    "    global numList\n",
    "    str=value.get()\n",
    "    if sign=='C':\n",
    "        numList.clear()\n",
    "        temp=0\n",
    "    elif sign=='+/-':\n",
    "        temp=eval('-'+str)\n",
    "    elif sign=='CE':\n",
    "        temp=0\n",
    "    elif sign=='←':\n",
    "        if len(str)!=1:\n",
    "            temp=str[0:-1]\n",
    "        else:\n",
    "            temp=0\n",
    "    isSpecial=1\n",
    "    value.set(temp)\n",
    "\n",
    "#构建GUI及运行    \n",
    "root = tkinter.Tk()\n",
    "root.title(\"My Little Caculator\")\n",
    "root['bg'] = '#cadddb'\n",
    "root.minsize(270, 300)\n",
    "root.resizable(False, False)\n",
    "\n",
    "value = tkinter.StringVar()\n",
    "value.set('0')\n",
    "show = tkinter.Label(textvariable=value, anchor='e', bg='white', bd=10)\n",
    "show.place(x=10, y=10, width=245, height=60)\n",
    "\n",
    "btn0 = tkinter.Button(text='0', command=lambda: pressNum('0'))\n",
    "btn0.place(x=10, y=250, width=95, height=40)\n",
    "\n",
    "btndian = tkinter.Button(text='.', command=lambda: pressNum('.'))\n",
    "btndian.place(x=110, y=250, width=45, height=40)\n",
    "\n",
    "btn1 = tkinter.Button(text='1', command=lambda: pressNum('1'))\n",
    "btn1.place(x=10, y=205, width=45, height=40)\n",
    "\n",
    "btn2 = tkinter.Button(text='2', command=lambda: pressNum('2'))\n",
    "btn2.place(x=60, y=205, width=45, height=40)\n",
    "\n",
    "btn3 = tkinter.Button(text='3', command=lambda: pressNum('3'))\n",
    "btn3.place(x=110, y=205, width=45, height=40)\n",
    "\n",
    "btn4 = tkinter.Button(text='4', command=lambda: pressNum('4'))\n",
    "btn4.place(x=10, y=160, width=45, height=40)\n",
    "\n",
    "btn5 = tkinter.Button(text='5', command=lambda: pressNum('5'))\n",
    "btn5.place(x=60, y=160, width=45, height=40)\n",
    "\n",
    "btn6 = tkinter.Button(text='6', command=lambda: pressNum('6'))\n",
    "btn6.place(x=110, y=160, width=45, height=40)\n",
    "\n",
    "btn7 = tkinter.Button(text='7', command=lambda: pressNum('7'))\n",
    "btn7.place(x=10, y=115, width=45, height=40)\n",
    "\n",
    "btn8 = tkinter.Button(text='8', command=lambda: pressNum('8'))\n",
    "btn8.place(x=60, y=115, width=45, height=40)\n",
    "\n",
    "btn9 = tkinter.Button(text='9', command=lambda: pressNum('9'))\n",
    "btn9.place(x=110, y=115, width=45, height=40)\n",
    "\n",
    "# 四则运算符号按钮\n",
    "btnjia = tkinter.Button(text='+', command=lambda: pressSign('+'))\n",
    "btnjia.place(x=160, y=250, width=45, height=40)\n",
    "\n",
    "btnjian = tkinter.Button(text='-', command=lambda: pressSign('-'))\n",
    "btnjian.place(x=160, y=205, width=45, height=40)\n",
    "\n",
    "btncheng = tkinter.Button(text='x', command=lambda: pressSign('*'))\n",
    "btncheng.place(x=160, y=160, width=45, height=40)\n",
    "\n",
    "btnchu = tkinter.Button(text='÷', command=lambda: pressSign('/'))\n",
    "btnchu.place(x=160, y=115, width=45, height=40)\n",
    "\n",
    "# 特殊运算符号\n",
    "btnsqrt = tkinter.Button(text='+/-', command=lambda: special('+/-'))\n",
    "btnsqrt.place(x=60, y=75, width=45, height=35)\n",
    "\n",
    "btnsqrt = tkinter.Button(text='C', command=lambda: special('C'))\n",
    "btnsqrt.place(x=10, y=75, width=45, height=35)\n",
    "\n",
    "btndel = tkinter.Button(text='←', command=lambda: special('←'))\n",
    "btndel.place(x=160, y=75, width=45, height=35)\n",
    "\n",
    "btnclear = tkinter.Button(text='CE', command=lambda: special('CE'))\n",
    "btnclear.place(x=110, y=75, width=45, height=35)\n",
    "\n",
    "btnden = tkinter.Button(text='=', command=lambda: pressEql())\n",
    "btnden.place(x=210, y=75, width=45, height=215)\n",
    "\n",
    "root.mainloop()\n"
   ]
  },
  {
   "cell_type": "markdown",
   "metadata": {},
   "source": [
    "5\\.Ball game:Python's pinball game, which can realize the game function of the keyboard control bottom baffle moving collision ball similar to table tennis game. \n",
    "\n",
    "<div style=\"float:left;\" ><img src=\"img/p5.png\" width=\"200\" height=\"200\" center=\"left\"></div>\n",
    "<div style=\"float:left;\" ><img src=\"img/p6.png\" width=\"200\" height=\"200\" center=\"right\" ></div>\n"
   ]
  },
  {
   "cell_type": "markdown",
   "metadata": {},
   "source": [
    "this is a step:how to install the matplotlib,you can reference this link:https://blog.csdn.net/not_give_up_/article/details/79058272\n",
    "1. Ball Class\n",
    "    draw is responsible for moving Ball\n",
    "    Collision detection, bounce, Ball detection of Paddle \n",
    "2. Paddle Class\n",
    "    draw is responsible for moving Paddle\n",
    "    Collision detection to determine whether or not to continue ,Monitor keyboard events\n",
    "3. main cycle\n",
    "    Drawing the Ball and Paddle"
   ]
  },
  {
   "cell_type": "code",
   "execution_count": null,
   "metadata": {},
   "outputs": [],
   "source": [
    "## write your answer here!\n",
    "from tkinter import *\n",
    "import matplotlib\n",
    "matplotlib.use('Agg')\n",
    "import random\n",
    "import time\n",
    "class Ball:\n",
    "  def __init__(self, canvas, paddle, color):\n",
    "    self.canvas = canvas\n",
    "    self.paddle = paddle\n",
    "    self.id = canvas.create_oval(10, 10, 25, 25, fill=color)\n",
    "    self.canvas.move(self.id, 245, 100)\n",
    "    startx = [-3, -2, -1, 1, 2, 3]\n",
    "    random.shuffle(startx)\n",
    "    self.x = startx[0]#从startx中随机选取\n",
    "    self.y = -3\n",
    "    self.canvas_height = self.canvas.winfo_height()\n",
    "    self.canvas_width = self.canvas.winfo_width()\n",
    "    self.hit_bottom = False\n",
    "  def draw(self):\n",
    "    self.canvas.move(self.id, self.x, self.y)\n",
    "    pos = self.canvas.coords(self.id)#top-left bottom-right\n",
    "\n",
    "    if (pos[1] <= 0 or self.hit_paddle(pos) == True):\n",
    "      self.y = -self.y\n",
    "    if (pos[0] <= 0 or pos[2] >= self.canvas_width):\n",
    "      self.x = -self.x\n",
    "    if (pos[3] >= self.canvas_height):#x,y坐标，为什么会有Pos[3]?左上角和右下角的\n",
    "      self.hit_bottom = True\n",
    "  def hit_paddle(self, pos):\n",
    "    paddle_pos = self.canvas.coords(self.paddle.id)\n",
    "    if (pos[2] >= paddle_pos[0] and pos[0] <= paddle_pos[2]):\n",
    "      if (pos[3] >= paddle_pos[1] and pos[3] <= paddle_pos[3]):\n",
    "        return True\n",
    "    return False\n",
    "class Paddle:\n",
    "  def __init__(self, canvas, color):\n",
    "    self.canvas = canvas\n",
    "    self.id = canvas.create_rectangle(0, 0, 100, 10, fill = color)\n",
    "    self.x = 0\n",
    "    self.canvas.move(self.id, 200, 300)\n",
    "    self.canvas_width = self.canvas.winfo_width()\n",
    "    self.canvas.bind_all(\"<Key-Left>\", self.turn_left)\n",
    "    self.canvas.bind_all(\"<Key-Right>\", self.turn_right)\n",
    "  def draw(self):\n",
    "    pos = self.canvas.coords(self.id)\n",
    "    if (pos[0] + self.x >= 0 and pos[2] + self.x <= self.canvas_width):\n",
    "      self.canvas.move(self.id, self.x, 0)\n",
    "    #self.x = 0\n",
    "  def turn_left(self, event):\n",
    "    self.x = -4\n",
    "  def turn_right(self, event):\n",
    "    self.x = 4\n",
    "\n",
    "tk = Tk()\n",
    "tk.title(\"Game\")\n",
    "tk.resizable(0, 0)#not resizable不可更改大小\n",
    "tk.wm_attributes(\"-topmost\", 1)#at top将画布的窗口始终放到所有其他窗口之前\n",
    "canvas = Canvas(tk, width = 500, height = 500, bd = 0, highlightthickness = 0)\n",
    "canvas.pack()\n",
    "tk.update()#init#为动画做好初始化\n",
    "paddle = Paddle(canvas, 'blue')\n",
    "ball = Ball(canvas, paddle, '#E9967A')\n",
    "while 1:\n",
    "  if (ball.hit_bottom == False):\n",
    "    ball.draw()\n",
    "    paddle.draw()\n",
    "    tk.update_idletasks()\n",
    "    tk.update()\n",
    "    time.sleep(0.01)\n",
    "  elif ball.hit_bottom == True: \n",
    "    canvas.create_text(250, 100, text='Game over...\\nYou can try again!')\n",
    "    tk.update()\n",
    "tk.mainloop()"
   ]
  }
 ],
 "metadata": {
  "kernelspec": {
   "display_name": "Python 3",
   "language": "python",
   "name": "python3"
  },
  "language_info": {
   "codemirror_mode": {
    "name": "ipython",
    "version": 3
   },
   "file_extension": ".py",
   "mimetype": "text/x-python",
   "name": "python",
   "nbconvert_exporter": "python",
   "pygments_lexer": "ipython3",
   "version": "3.6.5"
  }
 },
 "nbformat": 4,
 "nbformat_minor": 2
}
